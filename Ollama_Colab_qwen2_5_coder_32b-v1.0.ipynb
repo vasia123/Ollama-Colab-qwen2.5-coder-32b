{
 "cells": [
  {
   "cell_type": "markdown",
   "metadata": {},
   "source": [
    "# Запуск Ollama в Google Colab через VDS\n",
    "\n",
    "## Настройка секретов\n",
    "\n",
    "Перед запуском добавьте следующие секреты в Google Colab:\n",
    "1. `tunnel_key` - приватный SSH ключ от VDS сервера\n",
    "2. `vds_host` - IP адрес вашего VDS сервера\n",
    "\n",
    "Для добавления секретов:\n",
    "1. Нажмите на иконку ключа в левой панели\n",
    "2. Нажмите \"Add new secret\"\n",
    "3. Добавьте секреты с указанными выше именами\n",
    "\n",
    "## Настройка среды"
   ]
  },
  {
   "cell_type": "code",
   "execution_count": null,
   "metadata": {},
   "outputs": [],
   "source": [
    "from google.colab import userdata\n",
    "import os\n",
    "import subprocess\n",
    "import threading\n",
    "import time\n",
    "\n",
    "# Проверка наличия секретов\n",
    "required_secrets = ['tunnel_key', 'vds_host']\n",
    "missing_secrets = []\n",
    "\n",
    "for secret in required_secrets:\n",
    "    try:\n",
    "        if not userdata.get(secret):\n",
    "            missing_secrets.append(secret)\n",
    "    except Exception:\n",
    "        missing_secrets.append(secret)\n",
    "\n",
    "if missing_secrets:\n",
    "    raise ValueError(f\"Missing required secrets: {', '.join(missing_secrets)}\")\n",
    "\n",
    "# Создание SSH ключа\n",
    "os.makedirs(os.path.expanduser('~/.ssh'), exist_ok=True)\n",
    "key_path = os.path.expanduser('~/.ssh/tunnel_key')\n",
    "\n",
    "with open(key_path, 'w') as f:\n",
    "    f.write(userdata.get('tunnel_key'))\n",
    "\n",
    "os.chmod(key_path, 0o600)\n",
    "\n",
    "# Получение адреса VDS\n",
    "VDS_HOST = userdata.get('vds_host')\n",
    "VDS_USER = 'tunnel'\n",
    "\n",
    "print(\"✅ Секреты успешно загружены\")"
   ]
  },
  {
   "cell_type": "markdown",
   "metadata": {},
   "source": [
    "## Установка Ollama и необходимых пакетов"
   ]
  },
  {
   "cell_type": "code",
   "execution_count": null,
   "metadata": {},
   "outputs": [],
   "source": [
    "# Установка Ollama\n",
    "!curl https://ollama.ai/install.sh | sh\n",
    "\n",
    "# Установка CUDA драйверов\n",
    "!echo 'debconf debconf/frontend select Noninteractive' | sudo debconf-set-selections\n",
    "!sudo apt-get update && sudo apt-get install -y cuda-drivers\n",
    "\n",
    "# Настройка переменных окружения\n",
    "os.environ.update({'LD_LIBRARY_PATH': '/usr/lib64-nvidia'})"
   ]
  },
  {
   "cell_type": "markdown",
   "metadata": {},
   "source": [
    "## Вспомогательные функции"
   ]
  },
  {
   "cell_type": "code",
   "execution_count": null,
   "metadata": {},
   "outputs": [],
   "source": [
    "def run_and_print_output(process):\n",
    "    \"\"\"Вспомогательная функция для вывода процесса\"\"\"\n",
    "    while True:\n",
    "        output = process.stdout.readline()\n",
    "        if output == '' and process.poll() is not None:\n",
    "            break\n",
    "        if output:\n",
    "            print(output.strip())\n",
    "\n",
    "def check_tunnel():\n",
    "    \"\"\"Проверка SSH туннеля\"\"\"\n",
    "    try:\n",
    "        result = subprocess.run(\n",
    "            ['ssh', '-i', key_path, '-o', 'StrictHostKeyChecking=no',\n",
    "             f'{VDS_USER}@{VDS_HOST}', 'echo', 'test'],\n",
    "            capture_output=True,\n",
    "            text=True\n",
    "        )\n",
    "        return result.returncode == 0\n",
    "    except Exception:\n",
    "        return False"
   ]
  },
  {
   "cell_type": "markdown",
   "metadata": {},
   "source": [
    "## Запуск Ollama и создание туннеля"
   ]
  },
  {
   "cell_type": "code",
   "execution_count": null,
   "metadata": {},
   "outputs": [],
   "source": [
    "# Запуск Ollama\n",
    "print('🚀 Запуск Ollama...')\n",
    "ollama_serve = subprocess.Popen(\n",
    "    ['ollama', 'serve'],\n",
    "    stdout=subprocess.PIPE,\n",
    "    stderr=subprocess.STDOUT,\n",
    "    universal_newlines=True\n",
    ")\n",
    "\n",
    "# Запуск потока для вывода Ollama\n",
    "serve_thread = threading.Thread(target=run_and_print_output, args=(ollama_serve,))\n",
    "serve_thread.daemon = True\n",
    "serve_thread.start()\n",
    "\n",
    "# Ждем запуска Ollama\n",
    "time.sleep(5)\n",
    "\n",
    "# Создание SSH туннеля\n",
    "print('🔄 Создание SSH туннеля...')\n",
    "ssh_command = f\"ssh -N -R 11434:localhost:11434 -o StrictHostKeyChecking=no -i {key_path} {VDS_USER}@{VDS_HOST}\"\n",
    "tunnel = subprocess.Popen(ssh_command.split())\n",
    "\n",
    "# Проверка туннеля\n",
    "time.sleep(3)\n",
    "if check_tunnel():\n",
    "    print(f'✅ Туннель создан успешно!')\n",
    "    print(f'\\n🌐 Ollama доступен по адресу: http://{VDS_HOST}')\n",
    "else:\n",
    "    print('❌ Ошибка создания туннеля')\n",
    "    ollama_serve.terminate()\n",
    "    tunnel.terminate()\n",
    "    raise Exception(\"Failed to create tunnel\")"
   ]
  },
  {
   "cell_type": "markdown",
   "metadata": {},
   "source": [
    "## Загрузка модели"
   ]
  },
  {
   "cell_type": "code",
   "execution_count": null,
   "metadata": {},
   "outputs": [],
   "source": [
    "# Загрузка модели\n",
    "print('📥 Загрузка модели qwen2.5-coder:32b...')\n",
    "pull_process = subprocess.Popen(\n",
    "    ['ollama', 'pull', 'qwen2.5-coder:32b'],\n",
    "    stdout=subprocess.PIPE,\n",
    "    stderr=subprocess.STDOUT,\n",
    "    universal_newlines=True\n",
    ")\n",
    "\n",
    "# Вывод процесса загрузки\n",
    "while True:\n",
    "    output = pull_process.stdout.readline()\n",
    "    if output == '' and pull_process.poll() is not None:\n",
    "        break\n",
    "    if output:\n",
    "        print(output.strip())\n",
    "\n",
    "print('\\n✅ Настройка завершена!')\n",
    "print(f'🌐 Ollama доступен по адресу: http://{VDS_HOST}')"
   ]
  },
  {
   "cell_type": "markdown",
   "metadata": {},
   "source": [
    "## Поддержание работы сервера\n",
    "\n",
    "Выполните эту ячейку, чтобы сервер продолжал работать. Нажмите Ctrl+C для остановки."
   ]
  },
  {
   "cell_type": "code",
   "execution_count": null,
   "metadata": {},
   "outputs": [],
   "source": [
    "try:\n",
    "    while True:\n",
    "        if not check_tunnel():\n",
    "            print('🔄 Переподключение туннеля...')\n",
    "            tunnel.terminate()\n",
    "            tunnel = subprocess.Popen(ssh_command.split())\n",
    "            time.sleep(3)\n",
    "        time.sleep(30)\n",
    "except KeyboardInterrupt:\n",
    "    print('\\n⏹️ Остановка сервера...')\n",
    "    ollama_serve.terminate()\n",
    "    tunnel.terminate()\n",
    "    print('✅ Сервер остановлен')"
   ]
  }
 ],
 "metadata": {
  "language_info": {
   "name": "python"
  }
 },
 "nbformat": 4,
 "nbformat_minor": 4
}
