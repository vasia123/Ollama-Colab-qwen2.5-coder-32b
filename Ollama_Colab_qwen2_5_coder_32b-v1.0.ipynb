{
 "cells": [
  {
   "cell_type": "markdown",
   "metadata": {},
   "source": [
    "# Running Ollama with VDS Tunnel in Google Colab\n",
    "\n",
    "## Настройка\n",
    "\n",
    "1. В Colab добавьте секреты (значок ключа слева):\n",
    "   - vds_host: IP вашего VDS\n",
    "   - vds_user: имя пользователя\n",
    "   - vds_port: SSH порт\n",
    "   - ssh_key: приватный SSH-ключ в base64 (конвертируйте командой `base64 -w0 ~/.ssh/id_rsa`)\n",
    "\n",
    "2. На VDS:\n",
    "   - Добавьте публичный ключ в `~/.ssh/authorized_keys`\n",
    "   - Откройте порт 11434\n",
    "   - Разрешите создание обратного туннеля в `/etc/ssh/sshd_config`: `GatewayPorts yes`\n",
    "\n",
    "3. Используйте GPU runtime (Runtime -> Change runtime type -> GPU)\n",
    "\n",
    "## 1. Установка пакетов"
   ]
  },
  {
   "cell_type": "code",
   "execution_count": null,
   "metadata": {},
   "outputs": [],
   "source": [
    "# Install Ollama\n",
    "!curl https://ollama.ai/install.sh | sh\n",
    "\n",
    "# Install CUDA and SSH\n",
    "!echo 'debconf debconf/frontend select Noninteractive' | sudo debconf-set-selections\n",
    "!sudo apt-get update && sudo apt-get install -y cuda-drivers openssh-client"
   ]
  },
  {
   "cell_type": "markdown",
   "metadata": {},
   "source": [
    "## 2. Настройка окружения и импорт зависимостей"
   ]
  },
  {
   "cell_type": "code",
   "execution_count": null,
   "metadata": {},
   "outputs": [],
   "source": [
    "from google.colab import userdata\n",
    "import os\n",
    "import subprocess\n",
    "import threading\n",
    "import time\n",
    "import base64\n",
    "\n",
    "# Проверка наличия всех необходимых секретов\n",
    "required_secrets = ['vds_host', 'vds_user', 'vds_port', 'ssh_key']\n",
    "missing_secrets = [secret for secret in required_secrets if not userdata.get(secret)]\n",
    "if missing_secrets:\n",
    "    raise ValueError(f\"Missing required secrets: {', '.join(missing_secrets)}\\n\"\n",
    "                    \"Add them in Colab: Left sidebar -> Key icon -> Add new secret\\n\"\n",
    "                    \"Required secrets:\\n\"\n",
    "                    \"- vds_host: IP адрес VDS\\n\"\n",
    "                    \"- vds_user: Имя пользователя\\n\"\n",
    "                    \"- vds_port: SSH порт (обычно 22)\\n\"\n",
    "                    \"- ssh_key: SSH приватный ключ в base64\")\n",
    "\n",
    "# Создаем директорию .ssh и сохраняем ключ\n",
    "ssh_dir = os.path.expanduser('~/.ssh')\n",
    "os.makedirs(ssh_dir, mode=0o700, exist_ok=True)\n",
    "\n",
    "# Декодируем и сохраняем SSH ключ\n",
    "key_data = base64.b64decode(userdata.get('ssh_key')).decode()\n",
    "key_path = os.path.join(ssh_dir, 'id_rsa')\n",
    "with open(key_path, 'w') as f:\n",
    "    f.write(key_data)\n",
    "os.chmod(key_path, 0o600)\n",
    "\n",
    "# Конфигурация из секретов\n",
    "VDS_HOST = userdata.get('vds_host')\n",
    "VDS_USER = userdata.get('vds_user')\n",
    "VDS_PORT = userdata.get('vds_port')\n",
    "LOCAL_PORT = 11434\n",
    "\n",
    "# Set LD_LIBRARY_PATH for NVIDIA\n",
    "os.environ.update({'LD_LIBRARY_PATH': '/usr/lib64-nvidia'})"
   ]
  },
  {
   "cell_type": "markdown",
   "metadata": {},
   "source": [
    "## 3. Вспомогательные функции"
   ]
  },
  {
   "cell_type": "code",
   "execution_count": null,
   "metadata": {},
   "outputs": [],
   "source": [
    "def run_and_print_output(process):\n",
    "    \"\"\"Helper function to continuously read and print process output\"\"\"\n",
    "    while True:\n",
    "        output = process.stdout.readline()\n",
    "        if output == '' and process.poll() is not None:\n",
    "            break\n",
    "        if output:\n",
    "            print(output.strip())"
   ]
  },
  {
   "cell_type": "markdown",
   "metadata": {},
   "source": [
    "## 4. Запуск SSH туннеля и Ollama"
   ]
  },
  {
   "cell_type": "code",
   "execution_count": null,
   "metadata": {},
   "outputs": [],
   "source": [
    "# Создание SSH туннеля\n",
    "ssh_command = f\"ssh -N -R {LOCAL_PORT}:localhost:{LOCAL_PORT} -i {key_path} {VDS_USER}@{VDS_HOST} -p {VDS_PORT}\"\n",
    "ssh_process = subprocess.Popen(\n",
    "    ssh_command.split(),\n",
    "    stdout=subprocess.PIPE,\n",
    "    stderr=subprocess.STDOUT,\n",
    "    universal_newlines=True\n",
    ")\n",
    "\n",
    "# Запуск Ollama\n",
    "print('>>> starting ollama serve')\n",
    "ollama_serve = subprocess.Popen(\n",
    "    ['ollama', 'serve'],\n",
    "    stdout=subprocess.PIPE,\n",
    "    stderr=subprocess.STDOUT,\n",
    "    universal_newlines=True\n",
    ")\n",
    "\n",
    "serve_thread = threading.Thread(target=run_and_print_output, args=(ollama_serve,))\n",
    "serve_thread.daemon = True\n",
    "serve_thread.start()\n",
    "\n",
    "time.sleep(5)"
   ]
  },
  {
   "cell_type": "markdown",
   "metadata": {},
   "source": [
    "## 5. Загрузка модели"
   ]
  },
  {
   "cell_type": "code",
   "execution_count": null,
   "metadata": {},
   "outputs": [],
   "source": [
    "# Загрузка модели\n",
    "print('>>> starting ollama pull qwen2.5-coder:32b')\n",
    "# ***************************************************\n",
    "# Измените название модели на нужную вам\n",
    "# Смотрите библиотеку моделей на сайте Ollama\n",
    "# ***************************************************\n",
    "pull_process = subprocess.Popen(\n",
    "    ['ollama', 'pull', 'qwen2.5-coder:32b'],\n",
    "    stdout=subprocess.PIPE,\n",
    "    stderr=subprocess.STDOUT,\n",
    "    universal_newlines=True\n",
    ")\n",
    "\n",
    "while True:\n",
    "    output = pull_process.stdout.readline()\n",
    "    if output == '' and pull_process.poll() is not None:\n",
    "        break\n",
    "    if output:\n",
    "        print(output.strip())"
   ]
  },
  {
   "cell_type": "markdown",
   "metadata": {},
   "source": [
    "## 6. Показать URL и поддерживать работу сервера"
   ]
  },
  {
   "cell_type": "code",
   "execution_count": null,
   "metadata": {},
   "outputs": [],
   "source": [
    "print(f\"\\n=== Your Ollama server is available at ===\")\n",
    "print(f\"http://{VDS_HOST}:{LOCAL_PORT}\")\n",
    "print(\"=====================================\")\n",
    "\n",
    "try:\n",
    "    while True:\n",
    "        time.sleep(1)\n",
    "except KeyboardInterrupt:\n",
    "    print(\"Shutting down...\")\n",
    "    ollama_serve.terminate()\n",
    "    ssh_process.terminate()"
   ]
  }
 ],
 "metadata": {
  "language_info": {
   "name": "python"
  },
  "accelerator": "GPU"
 },
 "nbformat": 4,
 "nbformat_minor": 2
}
